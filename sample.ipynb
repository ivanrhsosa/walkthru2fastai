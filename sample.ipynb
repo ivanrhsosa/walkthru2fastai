{
 "cells": [
  {
   "cell_type": "markdown",
   "id": "8900aa44-862a-460b-8884-59dc6224b2d1",
   "metadata": {},
   "source": [
    "## Walthru sample notebook"
   ]
  },
  {
   "cell_type": "markdown",
   "id": "43aac2a8-f680-4a59-8cf9-9fc334ed09e7",
   "metadata": {},
   "source": [
    "Here is how I calculate `1+1`"
   ]
  },
  {
   "cell_type": "code",
   "execution_count": 3,
   "id": "084552ca-12e7-4bc0-8b17-e34b680386cc",
   "metadata": {
    "tags": []
   },
   "outputs": [
    {
     "data": {
      "text/plain": [
       "2"
      ]
     },
     "execution_count": 3,
     "metadata": {},
     "output_type": "execute_result"
    }
   ],
   "source": [
    "1+1"
   ]
  },
  {
   "cell_type": "code",
   "execution_count": 4,
   "id": "1ddcdb8d-e854-4d71-aee8-6882e8631943",
   "metadata": {
    "tags": []
   },
   "outputs": [],
   "source": [
    "from numpy import *"
   ]
  },
  {
   "cell_type": "markdown",
   "id": "57c79737-4145-4573-a484-4ea9da4ba4c7",
   "metadata": {},
   "source": [
    "Here is how I calculate `sin`:"
   ]
  },
  {
   "cell_type": "code",
   "execution_count": 5,
   "id": "0d4c1843-d831-45cf-b062-08e2ba4cd2c6",
   "metadata": {
    "tags": []
   },
   "outputs": [
    {
     "data": {
      "text/plain": [
       "array([0.84147098, 1.        ])"
      ]
     },
     "execution_count": 5,
     "metadata": {},
     "output_type": "execute_result"
    }
   ],
   "source": [
    "a = array([1.0, pi/2])\n",
    "sin(a)"
   ]
  },
  {
   "cell_type": "code",
   "execution_count": null,
   "id": "d0cf2551-3bf4-465a-b362-d871b0e16161",
   "metadata": {},
   "outputs": [],
   "source": []
  }
 ],
 "metadata": {
  "kernelspec": {
   "display_name": "Python 3 (ipykernel)",
   "language": "python",
   "name": "python3"
  },
  "language_info": {
   "codemirror_mode": {
    "name": "ipython",
    "version": 3
   },
   "file_extension": ".py",
   "mimetype": "text/x-python",
   "name": "python",
   "nbconvert_exporter": "python",
   "pygments_lexer": "ipython3",
   "version": "3.10.8"
  }
 },
 "nbformat": 4,
 "nbformat_minor": 5
}
